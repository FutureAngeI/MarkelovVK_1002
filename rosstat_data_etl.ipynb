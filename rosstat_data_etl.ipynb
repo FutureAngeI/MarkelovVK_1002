{
 "cells": [
  {
   "cell_type": "code",
   "execution_count": 1,
   "metadata": {},
   "outputs": [],
   "source": [
    "# !pip install regex, pandas numpy, os, re"
   ]
  },
  {
   "cell_type": "code",
   "execution_count": 2,
   "metadata": {},
   "outputs": [],
   "source": [
    "import pandas as pd\n",
    "import numpy as np\n",
    "import re\n",
    "import regex\n",
    "import os\n",
    "import pandas.io.formats.excel as fmt_xl     # version >= 0.20\n",
    "pd.options.display.max_rows=99\n",
    "pd.options.display.max_columns=999"
   ]
  },
  {
   "cell_type": "markdown",
   "metadata": {},
   "source": [
    "### ТЗ -> Разложить очищенные данные на:\n",
    "1. Населенный пункт(это может быть и город и СНТ)\n",
    "2. Улица в этом населенном пункте\n",
    "3. Дом с номером"
   ]
  },
  {
   "cell_type": "markdown",
   "metadata": {},
   "source": [
    "### 1. загружаем данные"
   ]
  },
  {
   "cell_type": "code",
   "execution_count": 3,
   "metadata": {},
   "outputs": [
    {
     "data": {
      "text/html": [
       "<div>\n",
       "<style scoped>\n",
       "    .dataframe tbody tr th:only-of-type {\n",
       "        vertical-align: middle;\n",
       "    }\n",
       "\n",
       "    .dataframe tbody tr th {\n",
       "        vertical-align: top;\n",
       "    }\n",
       "\n",
       "    .dataframe thead th {\n",
       "        text-align: right;\n",
       "    }\n",
       "</style>\n",
       "<table border=\"1\" class=\"dataframe\">\n",
       "  <thead>\n",
       "    <tr style=\"text-align: right;\">\n",
       "      <th></th>\n",
       "      <th>0</th>\n",
       "      <th>1</th>\n",
       "      <th>2</th>\n",
       "      <th>3</th>\n",
       "      <th>4</th>\n",
       "      <th>5</th>\n",
       "      <th>6</th>\n",
       "      <th>7</th>\n",
       "      <th>8</th>\n",
       "    </tr>\n",
       "  </thead>\n",
       "  <tbody>\n",
       "    <tr>\n",
       "      <th>0</th>\n",
       "      <td>2020</td>\n",
       "      <td>8</td>\n",
       "      <td>92401000000</td>\n",
       "      <td>NaN</td>\n",
       "      <td>16:16:214001:2776</td>\n",
       "      <td>Казань</td>\n",
       "      <td>NaN</td>\n",
       "      <td>NaN</td>\n",
       "      <td>NaN</td>\n",
       "    </tr>\n",
       "    <tr>\n",
       "      <th>1</th>\n",
       "      <td>2021</td>\n",
       "      <td>4</td>\n",
       "      <td>92401000000</td>\n",
       "      <td>NaN</td>\n",
       "      <td>16:50:210102:1657</td>\n",
       "      <td>г. Казань, Авиастроительный р-н, снт \"Нарцисс\"...</td>\n",
       "      <td>г. Казань, Авиастроительный р-н</td>\n",
       "      <td>снт \"Нарцисс\"</td>\n",
       "      <td>16</td>\n",
       "    </tr>\n",
       "    <tr>\n",
       "      <th>2</th>\n",
       "      <td>2020</td>\n",
       "      <td>12</td>\n",
       "      <td>92248000009</td>\n",
       "      <td>NaN</td>\n",
       "      <td>16:33:140406:13432</td>\n",
       "      <td>Пестречинский  р-н, Бог.ское сп, дер. Куюки, у...</td>\n",
       "      <td>Куюки</td>\n",
       "      <td>Тополиная</td>\n",
       "      <td>34</td>\n",
       "    </tr>\n",
       "    <tr>\n",
       "      <th>3</th>\n",
       "      <td>2020</td>\n",
       "      <td>4</td>\n",
       "      <td>92234000000</td>\n",
       "      <td>NaN</td>\n",
       "      <td>16:24:140602:91</td>\n",
       "      <td>Орловское</td>\n",
       "      <td>тер ТСН СНТ Троицкий</td>\n",
       "      <td>NaN</td>\n",
       "      <td>15</td>\n",
       "    </tr>\n",
       "    <tr>\n",
       "      <th>4</th>\n",
       "      <td>2020</td>\n",
       "      <td>4</td>\n",
       "      <td>92234000000</td>\n",
       "      <td>9.263448e+10</td>\n",
       "      <td>16:24:150106:988</td>\n",
       "      <td>Столбищенское</td>\n",
       "      <td>Столбище</td>\n",
       "      <td>Лесная</td>\n",
       "      <td>3А</td>\n",
       "    </tr>\n",
       "  </tbody>\n",
       "</table>\n",
       "</div>"
      ],
      "text/plain": [
       "      0   1            2             3                   4  \\\n",
       "0  2020   8  92401000000           NaN   16:16:214001:2776   \n",
       "1  2021   4  92401000000           NaN   16:50:210102:1657   \n",
       "2  2020  12  92248000009           NaN  16:33:140406:13432   \n",
       "3  2020   4  92234000000           NaN     16:24:140602:91   \n",
       "4  2020   4  92234000000  9.263448e+10    16:24:150106:988   \n",
       "\n",
       "                                                   5  \\\n",
       "0                                             Казань   \n",
       "1  г. Казань, Авиастроительный р-н, снт \"Нарцисс\"...   \n",
       "2  Пестречинский  р-н, Бог.ское сп, дер. Куюки, у...   \n",
       "3                                          Орловское   \n",
       "4                                      Столбищенское   \n",
       "\n",
       "                                 6              7                8  \n",
       "0                              NaN            NaN              NaN  \n",
       "1  г. Казань, Авиастроительный р-н  снт \"Нарцисс\"  16               \n",
       "2                            Куюки      Тополиная  34               \n",
       "3             тер ТСН СНТ Троицкий            NaN  15               \n",
       "4                         Столбище         Лесная  3А               "
      ]
     },
     "execution_count": 3,
     "metadata": {},
     "output_type": "execute_result"
    }
   ],
   "source": [
    "df_1 = pd.read_csv('./data/Address_IJS/data_1501.csv', \n",
    "                #    encoding='utf-8'\n",
    "                on_bad_lines='skip',\n",
    "                sep=';',\n",
    "                header=None,\n",
    "                   )\n",
    "df_1.head()"
   ]
  },
  {
   "cell_type": "markdown",
   "metadata": {},
   "source": [
    "### 2. удаляем бинарные сообщения"
   ]
  },
  {
   "cell_type": "code",
   "execution_count": 4,
   "metadata": {},
   "outputs": [],
   "source": [
    "df_1[5] = df_1[5].replace(u'\\xa0', ' ', regex=True)"
   ]
  },
  {
   "cell_type": "code",
   "execution_count": 5,
   "metadata": {},
   "outputs": [
    {
     "data": {
      "text/plain": [
       "['Пестречинский р-н, Богородское СП, д Куюки, ул. 25-й Квартал, д 83/2',\n",
       " 'Пестречинский р-н, Богородское СП, д Куюки, ул 25-й Квартал, дом 71/1']"
      ]
     },
     "execution_count": 5,
     "metadata": {},
     "output_type": "execute_result"
    }
   ],
   "source": [
    "df_1.iloc[13083:13085, 5].to_list()"
   ]
  },
  {
   "cell_type": "markdown",
   "metadata": {},
   "source": [
    "### 3. составляем списки и словари для замен"
   ]
  },
  {
   "cell_type": "code",
   "execution_count": 6,
   "metadata": {},
   "outputs": [],
   "source": [
    "cyr_alp = u\"абвгдеёжзийклмнопрстуфхцчшщъыьэюяАБВГДЕЁЖЗИЙКЛМНОПРСТУФХЦЧШЩЪЫЬЭЮЯ\"\n",
    "# cyr_alp\n",
    "noise_words = [\n",
    "    'Республика Татарстан', \n",
    "    # 'Татарстан',\n",
    "    'Реублика', 'Республика', 'РеСПублика'\n",
    "    # 'МО ', \n",
    "    # 'муниципальный', \n",
    "    # 'мууниципальный', \n",
    "    # 'район', \n",
    "    # 'р-н',\n",
    "    # 'г.ской', \n",
    "    # 'город',\n",
    "    # 'округ', \n",
    "    # 'сп',\n",
    "    'Российская Федерация.',\n",
    "    'Российская Федерация',\n",
    "    'территория',\n",
    "    'тер ',\n",
    "    'тер. ',\n",
    "    ]\n",
    "change_words = {\n",
    "    'муниципальный':'М',\n",
    "    'иуниципальный':'М',\n",
    "    'мууниципальный':'М',\n",
    "    'Мунииципальное':'М',\n",
    "    'округ':'О',\n",
    "    'район':'МО',\n",
    "    'м.р-н':'МО',\n",
    "    'р-н':'МО',\n",
    "    'г.ской':'М',\n",
    "    'город':'г.',\n",
    "    'г.ород':'г.',\n",
    "    'ородг':'г.',\n",
    "    'пгт':'пгт'.upper(),\n",
    "    'МО г. Казань':'г. Казань',\n",
    "    'МО г Казань':'г. Казань',\n",
    "    'сел.поселение': 'СП',\n",
    "    'сельское поселение': 'СП',\n",
    "    'с/п':'СП',\n",
    "    'сп.':'СП',\n",
    "    'с.п.':'СП',\n",
    "    'сп ':'СП',\n",
    "    'Татарстана':'@@ ул. Татарстана',\n",
    "    'Тaтарстан':'',\n",
    "    # 'участок':'участок',\n",
    "    'уч.':'участок',\n",
    "    'з/у':'участок',\n",
    "    'Бог.ское':'Богородское',\n",
    "    'Бог.ское ':'Богородское',\n",
    "    'гор. поселение': 'ПГТ',\n",
    "}\n",
    "snt_var = [\n",
    "    'сад неком т-во', \n",
    "    'сад т-во', \n",
    "    'сдт', \n",
    "    'с.н.т.', \n",
    "    'СНТ'.lower(),\n",
    "    'ДНТ',\n",
    "    'ДНТ'.lower(),\n",
    "    'ДНП',\n",
    "    'ДНП'.lower(),\n",
    "    'потребительский кооператив (некоммерческого) садоводческого товарищества',\n",
    "    'потребительский кооператив',\n",
    "    'садоводческого товарищества',\n",
    "    'садоводческое товарищество',\n",
    "    'сад потреб кооп',\n",
    "    'с/т',\n",
    "    ]\n",
    "COND_VILLAGE = [\n",
    "    r\"пос\\.\", r\"дер\\.\", \n",
    "    r\"\\д\\.\\s\\\\D+\", r\"\\д\\.\\\\D+\", r\"\\с\\\\D+\", \n",
    "    r\"с\\.\", r\"п\\.\", r\" c\\.\"\n",
    "    ]\n",
    "# prior_dict = [\n",
    "#     (0, 'г.'),\n",
    "#     (1, 'дер.'), \n",
    "#     (2, 'снт'), \n",
    "#     (3, 'ул.'), \n",
    "#     (4, r'д\\.\\s\\\\d+'), \n",
    "#     (5, r'д\\.\\s\\s\\d+'), \n",
    "#     (6, r'д\\.\\\\d+'), \n",
    "#     (7, 'д.')\n",
    "# ]\n",
    "# prior_dict\n",
    "prior_dict = {\n",
    "    'г.':0,\n",
    "    'дер.':1,\n",
    "    r'c\\.\\s':2,\n",
    "    r'\\\\sc\\.\\s':3,\n",
    "    r'c\\s':4,\n",
    "    'СНТ':5, \n",
    "    'ул.':6,\n",
    "    r'ул\\.\\s':7,\n",
    "    r'д\\.\\s\\\\d+':8, \n",
    "    r'д\\.\\s\\s\\d+':9, \n",
    "    r'д\\.\\\\d+':10,\n",
    "    r'д\\\\d+':11,\n",
    "    'д.':12,\n",
    "    r'\\w+$':13,\n",
    "    r'\\s\\w+$':14,\n",
    "}\n",
    "# prior_dict\n",
    "prior_rules = [\n",
    "    r'г\\. ',\n",
    "    r'г ',\n",
    "    'ПГТ', \n",
    "    r'п. ',\n",
    "    'квартал',\n",
    "    'квартал ',\n",
    "    r'дер\\.', \n",
    "    r' д ',\n",
    "    r'пос\\.', \n",
    "    r'сел\\.', \n",
    "    r'село ',\n",
    "    'cело',\n",
    "    r'с\\.', \n",
    "    r' с ', \n",
    "    'СНТ', \n",
    "    'ул\\.', 'ул ', \n",
    "    r'д\\.',\n",
    "    r'дом ',\n",
    "    ]"
   ]
  },
  {
   "cell_type": "markdown",
   "metadata": {},
   "source": [
    "### 3.1. Проводим очистку данных в строках и столбцах ДС\n",
    "как можно заметить, основной метод для очистки от мусора будет метод:\n",
    "\n",
    "3.1.1 replace - заменяет исх. на указанное значение\\\n",
    "3.1.2 strip - удаляется пробелы справа-слева, если не указан параметр для удаления."
   ]
  },
  {
   "cell_type": "code",
   "execution_count": 7,
   "metadata": {},
   "outputs": [],
   "source": [
    "adresses_df = df_1.iloc[:,5:6].iloc[:, :]\n",
    "adresses_df.columns = ['Adress']\n",
    "df = adresses_df.copy()\n",
    "df = df.apply(lambda x: x.str.strip(), axis=0)\n",
    "df = df.apply(lambda x: x.str.strip(), axis=1)\n",
    "# df = adresses_df['Adress'].str.split(',', expand=True).replace(pd.NA, '')\n",
    "\n",
    "df = df.apply(lambda x: x.replace('Сад №', 'Сад_номер', regex=True))\n",
    "df = df.apply(lambda x: x.replace('№', '', regex=True))\n",
    "\n",
    "# df = df.replace(',', ' ', regex=True)\n",
    "df = df.replace('  ', ' ', regex=True)\n",
    "df = df.replace('»', '', regex=True)\n",
    "df = df.replace('«', '', regex=True)\n",
    "df = df.replace('\"', '', regex=True)\n",
    "df = df.apply(lambda x: x.str.strip(), axis=0)\n",
    "df = df.apply(lambda x: x.str.strip(), axis=1)\n",
    "df = df.fillna('-')\n",
    "df = df.apply(lambda x: x.replace(noise_words, '', regex=True), axis=0)\n",
    "df = df.apply(lambda x: x.replace(change_words, regex=True))\n",
    "df = df.apply(lambda x: x.replace(snt_var, 'СНТ', regex=True))\n",
    "df = df.replace('М О', 'МО', regex=False)\n",
    "df = df.replace('улул.', 'ул.', regex=False)"
   ]
  },
  {
   "cell_type": "code",
   "execution_count": 8,
   "metadata": {},
   "outputs": [
    {
     "data": {
      "text/html": [
       "<div>\n",
       "<style scoped>\n",
       "    .dataframe tbody tr th:only-of-type {\n",
       "        vertical-align: middle;\n",
       "    }\n",
       "\n",
       "    .dataframe tbody tr th {\n",
       "        vertical-align: top;\n",
       "    }\n",
       "\n",
       "    .dataframe thead th {\n",
       "        text-align: right;\n",
       "    }\n",
       "</style>\n",
       "<table border=\"1\" class=\"dataframe\">\n",
       "  <thead>\n",
       "    <tr style=\"text-align: right;\">\n",
       "      <th></th>\n",
       "      <th>Adress</th>\n",
       "    </tr>\n",
       "  </thead>\n",
       "  <tbody>\n",
       "    <tr>\n",
       "      <th>1220</th>\n",
       "      <td>, М МО Кукморский, СП Большекукморское, село Б...</td>\n",
       "    </tr>\n",
       "    <tr>\n",
       "      <th>7296</th>\n",
       "      <td>г Казань, сад неком тов-во Садовод 11, дом 139</td>\n",
       "    </tr>\n",
       "    <tr>\n",
       "      <th>12407</th>\n",
       "      <td>г. Казань, СНТ Чайка , дом 45</td>\n",
       "    </tr>\n",
       "    <tr>\n",
       "      <th>12700</th>\n",
       "      <td>Пестречинский МО, Бог.ское СП, д Куюки, ул. Ве...</td>\n",
       "    </tr>\n",
       "    <tr>\n",
       "      <th>12710</th>\n",
       "      <td>Пестречинский МО, Бог.ское СП, д Куюки, ул. 2-...</td>\n",
       "    </tr>\n",
       "  </tbody>\n",
       "</table>\n",
       "</div>"
      ],
      "text/plain": [
       "                                                  Adress\n",
       "1220   , М МО Кукморский, СП Большекукморское, село Б...\n",
       "7296      г Казань, сад неком тов-во Садовод 11, дом 139\n",
       "12407                      г. Казань, СНТ Чайка , дом 45\n",
       "12700  Пестречинский МО, Бог.ское СП, д Куюки, ул. Ве...\n",
       "12710  Пестречинский МО, Бог.ское СП, д Куюки, ул. 2-..."
      ]
     },
     "execution_count": 8,
     "metadata": {},
     "output_type": "execute_result"
    }
   ],
   "source": [
    "df[df['Adress'].str.contains('дом ', regex=True)].head()"
   ]
  },
  {
   "cell_type": "markdown",
   "metadata": {},
   "source": [
    "ниже ячейки с проверкой содержимого после преобразования. \n",
    "\n",
    "они носят справочно-информационный характер"
   ]
  },
  {
   "cell_type": "code",
   "execution_count": 9,
   "metadata": {},
   "outputs": [
    {
     "data": {
      "text/plain": [
       "['Республика Татарстан, муниципальный район Кукморский, сельское поселение Большекукморское, село Большой Кукмор, улица Саид-Галеева, дом 2']"
      ]
     },
     "execution_count": 9,
     "metadata": {},
     "output_type": "execute_result"
    }
   ],
   "source": [
    "df_1.iloc[1220:1221,5].to_list()"
   ]
  },
  {
   "cell_type": "code",
   "execution_count": 10,
   "metadata": {},
   "outputs": [
    {
     "data": {
      "text/plain": [
       "[', М МО Кукморский, СП Большекукморское, село Большой Кукмор, улица Саид-Галеева, дом 2']"
      ]
     },
     "execution_count": 10,
     "metadata": {},
     "output_type": "execute_result"
    }
   ],
   "source": [
    "df.iloc[1220:1221,0].to_list()"
   ]
  },
  {
   "cell_type": "code",
   "execution_count": 11,
   "metadata": {},
   "outputs": [
    {
     "data": {
      "text/plain": [
       "['Высокогорский МО, Суксинское СП,  % дер. Кундурла, ул. Зеленая, 4А']"
      ]
     },
     "execution_count": 11,
     "metadata": {},
     "output_type": "execute_result"
    }
   ],
   "source": [
    "df.iloc[64:65,:].apply(lambda x: x.replace(r\"д\\s\", r' % дер. ', regex=True))['Adress'].to_list()"
   ]
  },
  {
   "cell_type": "code",
   "execution_count": 12,
   "metadata": {},
   "outputs": [
    {
     "data": {
      "text/plain": [
       "['Высокогорский МО, Суксинское СП, д Кундурла,  @@ ул. Зеленая, 4А']"
      ]
     },
     "execution_count": 12,
     "metadata": {},
     "output_type": "execute_result"
    }
   ],
   "source": [
    "df.iloc[64:65,:].apply(lambda x: x.replace(r\"ул.\\s\", r' @@ ул. ', regex=True))['Adress'].to_list()"
   ]
  },
  {
   "cell_type": "code",
   "execution_count": 13,
   "metadata": {},
   "outputs": [
    {
     "data": {
      "text/plain": [
       "['', 'д.', '16']"
      ]
     },
     "execution_count": 13,
     "metadata": {},
     "output_type": "execute_result"
    }
   ],
   "source": [
    "df.iloc[1:2,0].to_list()[0].strip().split(',')[-1].split(' ')"
   ]
  },
  {
   "cell_type": "markdown",
   "metadata": {},
   "source": [
    "расстявляем приоритеты для разбиения строки адреса"
   ]
  },
  {
   "cell_type": "code",
   "execution_count": 14,
   "metadata": {},
   "outputs": [],
   "source": [
    "# сначала выделяем тип населенного пункта\n",
    "priority_1 = [\n",
    "    r\"г\\.\\s\\D\",\n",
    "    r\"г\\.\\D\",\n",
    "    r\"МО\\s\",\n",
    "    r\"ПГТ\\s\",\n",
    "    # r\"ПГТ\\s\".lower(),\n",
    "    r'п\\.\\D',\n",
    "    r'п\\.\\s\\D',\n",
    "    r'п\\s\\D',\n",
    "    r'п\\.\\d',\n",
    "    r'п\\.\\s\\d',\n",
    "    r\"д\\s\\D\",\n",
    "    r\"д.\\s\\D\",\n",
    "    r\"пос\\.\",\n",
    "    r\"сел\\.\",\n",
    "    r\"село \",\n",
    "    r\"cело\",\n",
    "    r\"с\\.\",\n",
    "    r\" с \",\n",
    "    r\"снт\",\n",
    "    r\"СНТ\",\n",
    "    ]\n",
    "# затем удица\n",
    "priority_2 = [\n",
    "    r'ул\\.\\d',\n",
    "    r'ул\\.\\s\\d',\n",
    "    r'ул\\.\\s\\D',\n",
    "    r'ул\\.\\D',\n",
    "    r'ул\\s\\D',\n",
    "    r'ул\\D',\n",
    "]\n",
    "# затем дом\n",
    "priority_3 = [\n",
    "    r'д\\.\\d',\n",
    "    r'д\\.\\s\\d',\n",
    "    r'дом\\s\\d',\n",
    "]\n",
    "# словарь замен сокращений и замен на спец символы для определения приоритета\n",
    "priority = {\n",
    "    r'г\\. ' : r' % г.',\n",
    "    r'г\\s': r' % г ',\n",
    "    'МО': r' % МО',\n",
    "    'ПГТ': r' % ПГТ', \n",
    "    r'п\\. ': r' %п.',\n",
    "    'квартал': r' % квартал',\n",
    "    'квартал ': r' % квартал ',\n",
    "    r'дер\\.': r' % дер.', \n",
    "    r'д ': r' % д ',\n",
    "    r'пос\\.': r' %',\n",
    "    r'сел\\.': r' %',\n",
    "    r'село ': r' %',\n",
    "    'cело': r' %',\n",
    "    r'с\\.': r' %',\n",
    "    r' с ': r' %',\n",
    "    'снт': r' % СНТ',\n",
    "    'СНТ': r' % СНТ',\n",
    "    r'ул\\.': r' @@ ул.',\n",
    "    r'ул ': r' @@ ул ',\n",
    "    r'д\\.': r' ### д.',\n",
    "    r'д ': r' ### д ',\n",
    "    r'дом ': r' ### дом ',\n",
    "}"
   ]
  },
  {
   "cell_type": "code",
   "execution_count": 15,
   "metadata": {},
   "outputs": [
    {
     "data": {
      "text/plain": [
       "dict_keys(['г\\\\. ', 'г\\\\s', 'МО', 'ПГТ', 'п\\\\. ', 'квартал', 'квартал ', 'дер\\\\.', 'д ', 'пос\\\\.', 'сел\\\\.', 'село ', 'cело', 'с\\\\.', ' с ', 'снт', 'СНТ', 'ул\\\\.', 'ул ', 'д\\\\.', 'дом '])"
      ]
     },
     "execution_count": 15,
     "metadata": {},
     "output_type": "execute_result"
    }
   ],
   "source": [
    "priority.keys()"
   ]
  },
  {
   "cell_type": "markdown",
   "metadata": {},
   "source": [
    "3. Проводим следующую очистку и преобразование содержания строк адреса"
   ]
  },
  {
   "cell_type": "code",
   "execution_count": 16,
   "metadata": {},
   "outputs": [],
   "source": [
    "# df['Adress'] = df.replace(r\"г\\.\\D\", r' %г. ', regex=True)\n",
    "df['Adress'] = df.replace(r'МО ', r' %МО ', regex=True)\n",
    "# df['Adress'] = df.replace(r'МО ', r' %МО ', regex=True)\n",
    "df['Adress'] = df.replace(r'ПГТ ', r' %ПГТ ', regex=True)\n",
    "df['Adress'] = df.replace(r\"пос \", r' %пос. ', regex=True)\n",
    "df['Adress'] = df.replace(r'п\\. ', r' %пос. ', regex=True)\n",
    "# df['Adress'] = df.replace(r'п\\. ', r' %пос. ', regex=True)\n",
    "# df['Adress'] = df.replace(r\"п\\s\\D\", r' %пос. ', regex=True)\n",
    "# df['Adress'] = df.replace(r\"п\\s\\d\", r' %пос. ', regex=True)\n",
    "# df['Adress'] = df.replace(r'пос\\. ', r' %пос. ', regex=True)\n",
    "df['Adress'] = df.replace(r\"[^%]пос\\. \", r' %пос. ', regex=True)\n",
    "# df['Adress'] = df.replace(r\"пос\\s\\d\", r' %пос. ', regex=True)\n",
    "df['Adress'] = df.replace(r'дер\\. ', r' %дер. ', regex=True)\n",
    "df['Adress'] = df.replace(r'дер ', r' %дер. ', regex=True)\n",
    "df['Adress'] = df.replace(r'село ', r' %село ', regex=True)\n",
    "# df['Adress'] = df.replace(r'с\\. [A-ZА-Я]', r' %село ', regex=True)\n",
    "# df['Adress'] = df.replace(r'с [A-ZА-Я]', r' %село ', regex=True)\n",
    "# df['Adress'] = df.replace(r'сел\\. [A-ZА-Я]', r' %село ', regex=True)\n",
    "# df['Adress'] = df.replace(r'сел\\.[A-ZА-Я]', r' %село ', regex=True)\n",
    "# df['Adress'] = df.replace(r'сел [A-ZА-Я]', r' %село ', regex=True)\n",
    "df['Adress'] = df.replace(r'СНТ', r' &&СНТ ', regex=True)\n",
    "df['Adress'] = df['Adress'].replace(r\"участок\", '###участок', regex=True, limit=1)"
   ]
  },
  {
   "cell_type": "code",
   "execution_count": 17,
   "metadata": {},
   "outputs": [],
   "source": [
    "df['Adress'] = df['Adress'].str.replace('участоксток', 'участок', regex=True)"
   ]
  },
  {
   "cell_type": "markdown",
   "metadata": {},
   "source": [
    "Так выглядит исходная строка"
   ]
  },
  {
   "cell_type": "code",
   "execution_count": 18,
   "metadata": {},
   "outputs": [
    {
     "data": {
      "text/plain": [
       "['г. Казань,  &&СНТ  Сад_номер2 ПО Элекон, ###участок 43']"
      ]
     },
     "execution_count": 18,
     "metadata": {},
     "output_type": "execute_result"
    }
   ],
   "source": [
    "df.iloc[333:334,:]['Adress'].to_list()"
   ]
  },
  {
   "cell_type": "markdown",
   "metadata": {},
   "source": [
    "Так выглядит преобразованная"
   ]
  },
  {
   "cell_type": "code",
   "execution_count": 19,
   "metadata": {},
   "outputs": [
    {
     "data": {
      "text/plain": [
       "['г. Казань,  сдт \"Сад №2 ПО Элекон\", участок 43']"
      ]
     },
     "execution_count": 19,
     "metadata": {},
     "output_type": "execute_result"
    }
   ],
   "source": [
    "df_1.iloc[333:334,5].to_list()"
   ]
  },
  {
   "cell_type": "code",
   "execution_count": 20,
   "metadata": {},
   "outputs": [],
   "source": [
    "# данный метод будет с помощью библиотеки re искать нужные блоки\n",
    "def check_pattern(ptrn, string):\n",
    "    return len(re.findall(ptrn, string))"
   ]
  },
  {
   "cell_type": "code",
   "execution_count": 21,
   "metadata": {},
   "outputs": [],
   "source": [
    "# ниже методы очистки и преобразования для зашумленных данных\n",
    "# то есть надо понять, если в адресе нет дома, а есть только участок (СНТ и др.)\n",
    "def clean_row(row, pat, change, sign='%'):\n",
    "    # print(type(row))\n",
    "    row = row.lstrip('%')\n",
    "    if len(row.split(' '))==1:\n",
    "        return row\n",
    "    if row.count(sign)>0:\n",
    "        row_1 = row.split(sign)[1]\n",
    "        row_0 = row.split(sign)[0]\n",
    "    else:\n",
    "        row_0 = ''\n",
    "        row_1 = row\n",
    "    if re.search(pat, row_1) is not None:\n",
    "        pos_s = re.search(pat, row_1).start()\n",
    "        pos_e = re.search(pat, row_1).end()\n",
    "        # print(pos_s, pos_e)\n",
    "        if pos_e - pos_s > 1:\n",
    "            return row_0 + row_1.replace(row_1[pos_s:pos_e - 1], change)\n",
    "        else:\n",
    "            return row_0 + sign + row_1.replace(row_1[pos_s:pos_e], change)\n",
    "    else:\n",
    "        return row_0 + sign + row_1\n",
    "\n",
    "def check_row_house(s, ptr=r'д '):\n",
    "    # print(str(s))\n",
    "    # row = s.to_list()[0]\n",
    "    row = s\n",
    "    row = row.lstrip('%')\n",
    "    try:\n",
    "        # print(s.split(' '))\n",
    "        if len(s.split(' '))==1:\n",
    "            return s\n",
    "        if row.count('%')>1:\n",
    "            lst = row.split('%')\n",
    "            row_0 = lst[0] + '%'\n",
    "            row_1 = lst[1]\n",
    "        # elif row.count('%')==1:\n",
    "        #     lst = row.split('%')\n",
    "        #     row_0 = lst[0] + '%'\n",
    "        #     row_1 = lst[1]\n",
    "        else:\n",
    "            row_0 = ''\n",
    "            row_1 = row\n",
    "        # print(row_0)\n",
    "        # print(row_1)\n",
    "        try:\n",
    "            pos_s, pos_e = re.search(ptr, row_1).span()\n",
    "        except Exception as e:\n",
    "            # print(e)\n",
    "            return s\n",
    "    \n",
    "        if row_1[pos_e:pos_e+1] not in cyr_alp:\n",
    "            # print('Digit:', row_1[pos_e])\n",
    "            return row_0 + row_1[:pos_s] + row_1[pos_s:pos_e].replace(row_1[pos_s:pos_e-1], '###д.', 1) + row_1[pos_e:]\n",
    "        # elif regex.search(r'\\p{IsCyrillic}', s[pos_e:pos_e+1]):\n",
    "        if row_1[pos_e:pos_e+1] in cyr_alp:\n",
    "            # print('Letter:', row_1[pos_e])\n",
    "            return row_0 + row_1[:pos_s] + row_1[pos_s:pos_e].replace(row_1[pos_s:pos_e-1], '%дер.', 1) + row_1[pos_e:]\n",
    "    except Exception as e:\n",
    "        print(s)\n",
    "        \n",
    "def check_row_fields(s, ptr=r'участок '):\n",
    "    # print(str(s))\n",
    "    # row = s.to_list()[0]\n",
    "    row = s\n",
    "    row = row.lstrip('%')\n",
    "    try:\n",
    "        # print(s.split(' '))\n",
    "        if len(s.split(' '))==1:\n",
    "            return s\n",
    "        if row.count('%')>1:\n",
    "            lst = row.split('%')\n",
    "            row_0 = lst[0] + '%'\n",
    "            row_1 = lst[1]\n",
    "        # elif row.count('%')==1:\n",
    "        #     lst = row.split('%')\n",
    "        #     row_0 = lst[0] + '%'\n",
    "        #     row_1 = lst[1]\n",
    "        else:\n",
    "            row_0 = ''\n",
    "            row_1 = row\n",
    "        # print(row_0)\n",
    "        # print(row_1)\n",
    "        try:\n",
    "            pos_s, pos_e = re.search(ptr, row_1).span()\n",
    "        except Exception as e:\n",
    "            # print(e)\n",
    "            return s\n",
    "    \n",
    "        if row_1[pos_e:pos_e+1] in cyr_alp:\n",
    "            # print('Digit:', row_1[pos_e])\n",
    "            return row_0 + row_1[:pos_s] + row_1[pos_s:pos_e].replace(row_1[pos_s:pos_e-1], '###участок', 1) + row_1[pos_e:]\n",
    "        # elif regex.search(r'\\p{IsCyrillic}', s[pos_e:pos_e+1]):\n",
    "        # if row_1[pos_e:pos_e+1] in cyr_alp:\n",
    "            # print('Letter:', row_1[pos_e])\n",
    "            # return row_0 + row_1[:pos_s] + row_1[pos_s:pos_e].replace(row_1[pos_s:pos_e-1], '%дер.', 1) + row_1[pos_e:]\n",
    "    except Exception as e:\n",
    "        print(s)"
   ]
  },
  {
   "cell_type": "markdown",
   "metadata": {},
   "source": [
    "Выполняем преобразование"
   ]
  },
  {
   "cell_type": "code",
   "execution_count": 22,
   "metadata": {},
   "outputs": [],
   "source": [
    "df['Adress'] = df['Adress'].apply(clean_row, pat=r\" г\\.[A-ZА-Яа-я]\", change=' %г ')\n",
    "df['Adress'] = df['Adress'].apply(clean_row, pat=r' с\\. [A-ZА-Я]', change=' %село ')\n",
    "df['Adress'] = df['Adress'].apply(clean_row, pat=r' с\\. [A-ZА-Я]', change=' %село ')\n",
    "df['Adress'] = df['Adress'].apply(clean_row, pat=r' сел\\. [A-ZА-Я]', change=' %село ')\n",
    "df['Adress'] = df['Adress'].apply(clean_row, pat=r' сел [A-ZА-Я]', change=' %село ')\n",
    "df['Adress'] = df['Adress'].apply(clean_row, pat=r\" д. \\\\s[A-ZА-Я]\", change=' %дер. ')\n",
    "# df['Adress'] = df['Adress'].apply(clean_row, pat=r\"д. [A-ZА-Я]\", change=' %дер. ')\n",
    "# df['Adress'] = df['Adress'].apply(clean_row, pat=r\"д [A-ZА-Я]\", change=' %дер. ')\n",
    "df['Adress'] = df['Adress'].apply(clean_row, pat=r\" д \\\\s[A-ZА-Я]\", change=' %дер. ')\n",
    "# df['Adress'] = df.replace(r'д. ', r' %дер. ', regex=True)\n",
    "# df['Adress'] = df.replace(r'д ', r' %дер. ', regex=True)\n",
    "df['Adress'] = df['Adress'].apply(clean_row, pat=r\"ул [A-ZА-Яа-я]\", change=' @@ул. ')\n",
    "df['Adress'] = df['Adress'].apply(clean_row, pat=r\"ул [0-9]\", change=' @@ул. ')\n",
    "df['Adress'] = df['Adress'].apply(clean_row, pat=r\" ул. \\D\", change=' @@ул. ')\n",
    "df['Adress'] = df['Adress'].apply(clean_row, pat=r\" ул. [0-9]\", change=' @@ул. ')\n",
    "df['Adress'] = df['Adress'].apply(clean_row, pat=r\"улица \", change=' @@ул. ')\n",
    "df['Adress'] = df['Adress'].apply(clean_row, pat=r\"улица [0-9]\", change=' @@ул. ')\n",
    "df['Adress'] = df['Adress'].apply(clean_row, pat=r\"переулок [0-9]\", change=' @@пер. ')\n",
    "df['Adress'] = df['Adress'].apply(clean_row, pat=r\"переулок [А-Я]\", change=' @@пер. ')\n",
    "df['Adress'] = df['Adress'].apply(clean_row, pat=r\"пер [0-9]\", change=' @@пер. ')\n",
    "df['Adress'] = df['Adress'].apply(clean_row, pat=r\"пер [А-Я]\", change=' @@пер. ')\n",
    "df['Adress'] = df['Adress'].apply(clean_row, pat=r\"пер. [0-9]\", change=' @@пер. ')\n",
    "df['Adress'] = df['Adress'].apply(clean_row, pat=r\"пер. [А-Я]\", change=' @@пер. ')\n",
    "df['Adress'] = df['Adress'].apply(clean_row, pat=r\"аллея\", change=' @@аллея ')\n",
    "# df['Adress'] = df['Adress'].apply(clean_row, pat=r\"д. \\d\", change=' ###д. ')\n",
    "# df['Adress'] = df['Adress'].apply(clean_row, pat=r\"д \\d\", change=' ###д. ')\n",
    "# df['Adress'] = df['Adress'].apply(clean_row, pat=r\"д \\D\", change=' % дер. ')\n",
    "# df['Adress'] = df['Adress'].apply(clean_row, pat=r\"д\\. \\D\", change=' % дер. ')\n",
    "# df['Adress'] = df['Adress'].apply(clean_row, pat=r\" д\\.\\s[0-9]\", change=' ###д. ', sign='%')\n",
    "# df['Adress'] = df['Adress'].apply(clean_row, pat=r\" д\\s[0-9]\", change=' ###д. ',  sign='%')\n",
    "# df['Adress'] = df['Adress'].apply(clean_row, pat=r\" д. [0-9]\", change=' ###д. ',  sign='%')\n",
    "# df['Adress'] = df['Adress'].apply(clean_row, pat=r\" д.[0-9]\", change=' ###д. ',  sign='%')\n",
    "# df['Adress'] = df['Adress'].apply(clean_row, pat=r\" д [0-9]\", change=' ###д. ',  sign='%')\n",
    "# df['Adress'] = df['Adress'].apply(clean_row, pat=r\" д[0-9]\", change=' ###д. ',  sign='%')\n",
    "df['Adress'] = df.replace(\"ул @@ул.\", \" @@ул. \", regex=True)\n",
    "# df_1.iloc[10562:10563,5].apply(clean_row, pat=r\"д\\s[A-ZА-Яа-я]\", change=' ###д. ',  sign='%').to_list()\n",
    "# df_1.iloc[10562:10563,5].apply(clean_row, pat=r\"д [^0-9]\", change=' ###д.',  sign='%').to_list()\n",
    "# df_1.iloc[10562:10563,5].apply(clean_row, pat=r\"д [A-ZА-Яа-я]\", change=' ###д.',  sign='%').to_list()\n",
    "df['Adress'] = df['Adress'].apply(check_row_house)\n",
    "# res\n",
    "# str_ = df_1.iloc[10562:10563,5].to_list()[0].split('д')#.str.replace()#.to_list()\n",
    "# str_\n",
    "# check_row(res)"
   ]
  },
  {
   "cell_type": "code",
   "execution_count": 23,
   "metadata": {},
   "outputs": [
    {
     "name": "stdout",
     "output_type": "stream",
     "text": [
      "['Пестречинский МО, %дер. Куюки,  @@ул. Песочная, д 30,']\n"
     ]
    },
    {
     "data": {
      "text/plain": [
       "'Пестречинский МО, %дер. Куюки,  @@ул. Песочная, ###д. 30,'"
      ]
     },
     "execution_count": 23,
     "metadata": {},
     "output_type": "execute_result"
    }
   ],
   "source": [
    "print(df.iloc[10562:10563,0].to_list())\n",
    "check_row_house(df.iloc[10562:10563,0].apply(check_row_house, ptr='д ').to_list()[0])"
   ]
  },
  {
   "cell_type": "code",
   "execution_count": 24,
   "metadata": {},
   "outputs": [
    {
     "name": "stdout",
     "output_type": "stream",
     "text": [
      "['%Тукаевский МО, Мелекесское СП,  &&СНТ  Возрождение, @@ул. 23, 24, ###участок 1, 2']\n"
     ]
    },
    {
     "data": {
      "text/plain": [
       "['%Тукаевский МО, Мелекесское СП,  &&СНТ  Возрождение, @@ул. 23, 24, ###участок 1, 2']"
      ]
     },
     "execution_count": 24,
     "metadata": {},
     "output_type": "execute_result"
    }
   ],
   "source": [
    "print(df.iloc[42:43,0].to_list())\n",
    "df.iloc[42:43,0].apply(check_row_house, ptr='д ').to_list()"
   ]
  },
  {
   "cell_type": "markdown",
   "metadata": {},
   "source": [
    "Ниже пример непонятного адреса. То ли 197 это дом, то ли участок. Так как мы видим в содержании СНТ - будем считать, что это участок."
   ]
  },
  {
   "cell_type": "code",
   "execution_count": 25,
   "metadata": {},
   "outputs": [
    {
     "data": {
      "text/html": [
       "<div>\n",
       "<style scoped>\n",
       "    .dataframe tbody tr th:only-of-type {\n",
       "        vertical-align: middle;\n",
       "    }\n",
       "\n",
       "    .dataframe tbody tr th {\n",
       "        vertical-align: top;\n",
       "    }\n",
       "\n",
       "    .dataframe thead th {\n",
       "        text-align: right;\n",
       "    }\n",
       "</style>\n",
       "<table border=\"1\" class=\"dataframe\">\n",
       "  <thead>\n",
       "    <tr style=\"text-align: right;\">\n",
       "      <th></th>\n",
       "      <th>Adress</th>\n",
       "    </tr>\n",
       "  </thead>\n",
       "  <tbody>\n",
       "    <tr>\n",
       "      <th>104</th>\n",
       "      <td>%г. Казань, Авиастроительный МО,  &amp;&amp;СНТ  Ветер...</td>\n",
       "    </tr>\n",
       "    <tr>\n",
       "      <th>6932</th>\n",
       "      <td>%г. Казань, г. Казань, Авиастроительный МО,  &amp;...</td>\n",
       "    </tr>\n",
       "    <tr>\n",
       "      <th>10167</th>\n",
       "      <td>%г. Казань,   &amp;&amp;СНТ  Ветеран КАПО им С.П.Горбу...</td>\n",
       "    </tr>\n",
       "    <tr>\n",
       "      <th>10213</th>\n",
       "      <td>г. Казань, %г Казань, Авиастроительный МО, Нек...</td>\n",
       "    </tr>\n",
       "    <tr>\n",
       "      <th>11349</th>\n",
       "      <td>%г. Казань, Авиастроительный МО,  &amp;&amp;СНТ  Ветер...</td>\n",
       "    </tr>\n",
       "    <tr>\n",
       "      <th>13478</th>\n",
       "      <td>%г Казань,  &amp;&amp;СНТ  Ветеран КАПО им.С.П.Горбуно...</td>\n",
       "    </tr>\n",
       "    <tr>\n",
       "      <th>14270</th>\n",
       "      <td>%г. Казань, Авиастроительный МО, некоммерческо...</td>\n",
       "    </tr>\n",
       "    <tr>\n",
       "      <th>14288</th>\n",
       "      <td>%г. Казань, г. Казань, Авиастроительный МО,  &amp;...</td>\n",
       "    </tr>\n",
       "    <tr>\n",
       "      <th>16812</th>\n",
       "      <td>%г. Казань, Авиастроительный МО,  &amp;&amp;СНТ  Ветер...</td>\n",
       "    </tr>\n",
       "    <tr>\n",
       "      <th>18625</th>\n",
       "      <td>% &amp;&amp;СНТ  Ветеран КАПО им.С.П.Горбунова, д. 44</td>\n",
       "    </tr>\n",
       "  </tbody>\n",
       "</table>\n",
       "</div>"
      ],
      "text/plain": [
       "                                                  Adress\n",
       "104    %г. Казань, Авиастроительный МО,  &&СНТ  Ветер...\n",
       "6932   %г. Казань, г. Казань, Авиастроительный МО,  &...\n",
       "10167  %г. Казань,   &&СНТ  Ветеран КАПО им С.П.Горбу...\n",
       "10213  г. Казань, %г Казань, Авиастроительный МО, Нек...\n",
       "11349  %г. Казань, Авиастроительный МО,  &&СНТ  Ветер...\n",
       "13478  %г Казань,  &&СНТ  Ветеран КАПО им.С.П.Горбуно...\n",
       "14270  %г. Казань, Авиастроительный МО, некоммерческо...\n",
       "14288  %г. Казань, г. Казань, Авиастроительный МО,  &...\n",
       "16812  %г. Казань, Авиастроительный МО,  &&СНТ  Ветер...\n",
       "18625      % &&СНТ  Ветеран КАПО им.С.П.Горбунова, д. 44"
      ]
     },
     "execution_count": 25,
     "metadata": {},
     "output_type": "execute_result"
    }
   ],
   "source": [
    "ptr=\"г. Казань; Авиастроительный МО;  СНТ  Ветеран КАПО им.С.П.Горбунова; 197\"\n",
    "df[df['Adress'].str.contains(\"СНТ  Ветеран КАПО им.С.П.Горбунова\", regex=True)]"
   ]
  },
  {
   "cell_type": "code",
   "execution_count": 26,
   "metadata": {},
   "outputs": [],
   "source": [
    "# ищем номер дома в адресе\n",
    "def house_number_find(s):\n",
    "    last_elem = s.split(' ')[-1]\n",
    "    if s.count('#') == 0:\n",
    "        if (last_elem.isnumeric()) and (last_elem[0].isdigit()):\n",
    "            if s.count('участок')>0:\n",
    "                return \" \".join(s.split(' ')[:-1]) + f\"###участок {last_elem}\"\n",
    "            else:\n",
    "                return \" \".join(s.split(' ')[:-1]) + f\"###д. {last_elem}\"\n",
    "        else:\n",
    "            return s\n",
    "    else:\n",
    "        return s"
   ]
  },
  {
   "cell_type": "markdown",
   "metadata": {},
   "source": [
    "Так в обработанном ДФ"
   ]
  },
  {
   "cell_type": "code",
   "execution_count": 27,
   "metadata": {},
   "outputs": [
    {
     "data": {
      "text/plain": [
       "['%Пестречинский МО, Богородское СП  дер. Куюки, @@ул. Тополиная, д. 34']"
      ]
     },
     "execution_count": 27,
     "metadata": {},
     "output_type": "execute_result"
    }
   ],
   "source": [
    "df.iloc[2:3, 0].to_list()"
   ]
  },
  {
   "cell_type": "markdown",
   "metadata": {},
   "source": [
    "Так в исходном"
   ]
  },
  {
   "cell_type": "code",
   "execution_count": 28,
   "metadata": {},
   "outputs": [
    {
     "data": {
      "text/plain": [
       "['Пестречинский  р-н, Бог.ское сп, дер. Куюки, ул. Тополиная, д. 34']"
      ]
     },
     "execution_count": 28,
     "metadata": {},
     "output_type": "execute_result"
    }
   ],
   "source": [
    "df_1.iloc[2:3, 5].to_list()"
   ]
  },
  {
   "cell_type": "markdown",
   "metadata": {},
   "source": [
    "Применяем метод"
   ]
  },
  {
   "cell_type": "code",
   "execution_count": 29,
   "metadata": {},
   "outputs": [
    {
     "data": {
      "text/html": [
       "<div>\n",
       "<style scoped>\n",
       "    .dataframe tbody tr th:only-of-type {\n",
       "        vertical-align: middle;\n",
       "    }\n",
       "\n",
       "    .dataframe tbody tr th {\n",
       "        vertical-align: top;\n",
       "    }\n",
       "\n",
       "    .dataframe thead th {\n",
       "        text-align: right;\n",
       "    }\n",
       "</style>\n",
       "<table border=\"1\" class=\"dataframe\">\n",
       "  <thead>\n",
       "    <tr style=\"text-align: right;\">\n",
       "      <th></th>\n",
       "      <th>Adress</th>\n",
       "    </tr>\n",
       "  </thead>\n",
       "  <tbody>\n",
       "    <tr>\n",
       "      <th>0</th>\n",
       "      <td>Казань</td>\n",
       "    </tr>\n",
       "    <tr>\n",
       "      <th>1</th>\n",
       "      <td>%г. Казань, Авиастроительный МО,  &amp;&amp;СНТ  Нарци...</td>\n",
       "    </tr>\n",
       "    <tr>\n",
       "      <th>2</th>\n",
       "      <td>%Пестречинский МО, Богородское СП  дер. Куюки,...</td>\n",
       "    </tr>\n",
       "    <tr>\n",
       "      <th>3</th>\n",
       "      <td>Орловское</td>\n",
       "    </tr>\n",
       "    <tr>\n",
       "      <th>4</th>\n",
       "      <td>Столбищенское</td>\n",
       "    </tr>\n",
       "  </tbody>\n",
       "</table>\n",
       "</div>"
      ],
      "text/plain": [
       "                                              Adress\n",
       "0                                             Казань\n",
       "1  %г. Казань, Авиастроительный МО,  &&СНТ  Нарци...\n",
       "2  %Пестречинский МО, Богородское СП  дер. Куюки,...\n",
       "3                                          Орловское\n",
       "4                                      Столбищенское"
      ]
     },
     "execution_count": 29,
     "metadata": {},
     "output_type": "execute_result"
    }
   ],
   "source": [
    "# house_number_find(df_1.iloc[104:105,5].to_list()[0])\n",
    "# house_number_find(df.iloc[104:105,0].to_list()[0])\n",
    "# house_number_find(df_1.iloc[105:106,5].to_list()[0])\n",
    "# house_number_find(df.iloc[105:106,0].to_list()[0])\n",
    "df['Adress'] = df['Adress'].apply(house_number_find)\n",
    "df.head()"
   ]
  },
  {
   "cell_type": "markdown",
   "metadata": {},
   "source": [
    "Видим что перед \"д.\" появился спецсимвол ###"
   ]
  },
  {
   "cell_type": "code",
   "execution_count": 30,
   "metadata": {},
   "outputs": [
    {
     "data": {
      "text/plain": [
       "['%г. Казань, Авиастроительный МО,  &&СНТ  Ветеран КАПО им.С.П.Горбунова,###д. 197']"
      ]
     },
     "execution_count": 30,
     "metadata": {},
     "output_type": "execute_result"
    }
   ],
   "source": [
    "df.iloc[104:105,0].to_list()"
   ]
  },
  {
   "cell_type": "markdown",
   "metadata": {},
   "source": [
    "В исходном нет его (естест-но)"
   ]
  },
  {
   "cell_type": "code",
   "execution_count": 31,
   "metadata": {},
   "outputs": [
    {
     "data": {
      "text/plain": [
       "['г. Казань, Авиастроительный р-н,  жилой массив Северный, ул. Леонида Черкасова, д. 26']"
      ]
     },
     "execution_count": 31,
     "metadata": {},
     "output_type": "execute_result"
    }
   ],
   "source": [
    "df_1.iloc[632:633,5].to_list()"
   ]
  },
  {
   "cell_type": "code",
   "execution_count": 32,
   "metadata": {},
   "outputs": [
    {
     "data": {
      "text/html": [
       "<div>\n",
       "<style scoped>\n",
       "    .dataframe tbody tr th:only-of-type {\n",
       "        vertical-align: middle;\n",
       "    }\n",
       "\n",
       "    .dataframe tbody tr th {\n",
       "        vertical-align: top;\n",
       "    }\n",
       "\n",
       "    .dataframe thead th {\n",
       "        text-align: right;\n",
       "    }\n",
       "</style>\n",
       "<table border=\"1\" class=\"dataframe\">\n",
       "  <thead>\n",
       "    <tr style=\"text-align: right;\">\n",
       "      <th></th>\n",
       "      <th>adress</th>\n",
       "      <th>street</th>\n",
       "    </tr>\n",
       "  </thead>\n",
       "  <tbody>\n",
       "    <tr>\n",
       "      <th>0</th>\n",
       "      <td>Казань</td>\n",
       "      <td>-</td>\n",
       "    </tr>\n",
       "    <tr>\n",
       "      <th>1</th>\n",
       "      <td>%г. Казань, Авиастроительный МО,  &amp;&amp;СНТ  Нарци...</td>\n",
       "      <td>-</td>\n",
       "    </tr>\n",
       "    <tr>\n",
       "      <th>2</th>\n",
       "      <td>%Пестречинский МО, Богородское СП  дер. Куюки,</td>\n",
       "      <td>ул. Тополиная, д.</td>\n",
       "    </tr>\n",
       "    <tr>\n",
       "      <th>3</th>\n",
       "      <td>Орловское</td>\n",
       "      <td>-</td>\n",
       "    </tr>\n",
       "    <tr>\n",
       "      <th>4</th>\n",
       "      <td>Столбищенское</td>\n",
       "      <td>-</td>\n",
       "    </tr>\n",
       "  </tbody>\n",
       "</table>\n",
       "</div>"
      ],
      "text/plain": [
       "                                              adress             street\n",
       "0                                             Казань                  -\n",
       "1  %г. Казань, Авиастроительный МО,  &&СНТ  Нарци...                  -\n",
       "2     %Пестречинский МО, Богородское СП  дер. Куюки,  ул. Тополиная, д.\n",
       "3                                          Орловское                  -\n",
       "4                                      Столбищенское                  -"
      ]
     },
     "execution_count": 32,
     "metadata": {},
     "output_type": "execute_result"
    }
   ],
   "source": [
    "df_house = df['Adress'].str.split(\"###\", expand=True, n=1)\n",
    "df_house.columns = ['adress', 'house']\n",
    "df_house['house'].replace('###', '', regex=True, inplace=True)\n",
    "# df_house['house'].replace('д.', '', regex=True, inplace=True)\n",
    "df_house['house'] = df_house['house'].str.strip()\n",
    "df_house['house'].fillna('-', inplace=True)\n",
    "# df_house.head()\n",
    "df_street = df_house['adress'].str.split('@@', expand=True, n=1)\n",
    "df_street.columns = ['adress', 'street']\n",
    "df_street = df_street.fillna('-')\n",
    "df_street = df_street.apply(lambda x: x.str.strip(), axis=1)\n",
    "df_street = df_street.apply(lambda x: x.str.strip(), axis=0)\n",
    "df_street.head()"
   ]
  },
  {
   "cell_type": "code",
   "execution_count": 33,
   "metadata": {},
   "outputs": [],
   "source": [
    "# метод поиска в содержимом цифр (так как в адресе может быть не только номер, но и символы А / и тд.)\n",
    "def find_digits(row):\n",
    "    pat = r\"[0-9]\"\n",
    "    # print(type(row))\n",
    "    if re.search(pat, row) is not None:\n",
    "        pos_s = re.search(pat, row).start()\n",
    "        pos_e = re.search(pat, row).end()\n",
    "        # print(pos_s, pos_e)\n",
    "        if pos_e - pos_s > 1:\n",
    "            return row[pos_s:pos_e]\n",
    "        else:\n",
    "            return pd.NA\n",
    "    else:\n",
    "        return pd.NA"
   ]
  },
  {
   "cell_type": "code",
   "execution_count": 34,
   "metadata": {},
   "outputs": [
    {
     "data": {
      "text/html": [
       "<div>\n",
       "<style scoped>\n",
       "    .dataframe tbody tr th:only-of-type {\n",
       "        vertical-align: middle;\n",
       "    }\n",
       "\n",
       "    .dataframe tbody tr th {\n",
       "        vertical-align: top;\n",
       "    }\n",
       "\n",
       "    .dataframe thead th {\n",
       "        text-align: right;\n",
       "    }\n",
       "</style>\n",
       "<table border=\"1\" class=\"dataframe\">\n",
       "  <thead>\n",
       "    <tr style=\"text-align: right;\">\n",
       "      <th></th>\n",
       "      <th>sub_street</th>\n",
       "      <th>sub_house</th>\n",
       "    </tr>\n",
       "  </thead>\n",
       "  <tbody>\n",
       "    <tr>\n",
       "      <th>0</th>\n",
       "      <td></td>\n",
       "      <td></td>\n",
       "    </tr>\n",
       "    <tr>\n",
       "      <th>1</th>\n",
       "      <td></td>\n",
       "      <td></td>\n",
       "    </tr>\n",
       "    <tr>\n",
       "      <th>2</th>\n",
       "      <td>ул. Тополиная</td>\n",
       "      <td>д.</td>\n",
       "    </tr>\n",
       "    <tr>\n",
       "      <th>3</th>\n",
       "      <td></td>\n",
       "      <td></td>\n",
       "    </tr>\n",
       "    <tr>\n",
       "      <th>4</th>\n",
       "      <td></td>\n",
       "      <td></td>\n",
       "    </tr>\n",
       "  </tbody>\n",
       "</table>\n",
       "</div>"
      ],
      "text/plain": [
       "      sub_street sub_house\n",
       "0                         \n",
       "1                         \n",
       "2  ул. Тополиная        д.\n",
       "3                         \n",
       "4                         "
      ]
     },
     "execution_count": 34,
     "metadata": {},
     "output_type": "execute_result"
    }
   ],
   "source": [
    "# df_street_house = df_street['street'].str.split(r'[0-9]', regex=True, n=1, expand=True)\n",
    "# df_street_house = df_street['street'].apply(lambda x: pd.NA if not x[-1:].isdigit() else x)\n",
    "# df_street_house = df_street['street'].str.split(' ', expand=True)\n",
    "df_street_house = df_street['street'].str.split(',', expand=True)\n",
    "df_street_house = df_street_house.fillna('-')\n",
    "df_street_house.columns = ['sub_street', 'sub_house_1', 'sub_house_2', 'sub_house_3']\n",
    "df_street_house['sub_house'] = df_street_house['sub_house_1'] + df_street_house['sub_house_2'] + df_street_house['sub_house_3']\n",
    "df_street_house = df_street_house[['sub_street', 'sub_house']]\n",
    "df_street_house = df_street_house.fillna('-')\n",
    "df_street_house = df_street_house.replace('-', '', regex=True)\n",
    "df_street_house.head()"
   ]
  },
  {
   "cell_type": "markdown",
   "metadata": {},
   "source": [
    "Выполняем финальную подготовку данных"
   ]
  },
  {
   "cell_type": "code",
   "execution_count": 35,
   "metadata": {},
   "outputs": [
    {
     "data": {
      "text/html": [
       "<div>\n",
       "<style scoped>\n",
       "    .dataframe tbody tr th:only-of-type {\n",
       "        vertical-align: middle;\n",
       "    }\n",
       "\n",
       "    .dataframe tbody tr th {\n",
       "        vertical-align: top;\n",
       "    }\n",
       "\n",
       "    .dataframe thead th {\n",
       "        text-align: right;\n",
       "    }\n",
       "</style>\n",
       "<table border=\"1\" class=\"dataframe\">\n",
       "  <thead>\n",
       "    <tr style=\"text-align: right;\">\n",
       "      <th></th>\n",
       "      <th>punkt</th>\n",
       "      <th>street</th>\n",
       "      <th>house</th>\n",
       "    </tr>\n",
       "  </thead>\n",
       "  <tbody>\n",
       "    <tr>\n",
       "      <th>0</th>\n",
       "      <td>Казань</td>\n",
       "      <td></td>\n",
       "      <td></td>\n",
       "    </tr>\n",
       "    <tr>\n",
       "      <th>1</th>\n",
       "      <td>г. Казань; Авиастроительный МО;  СНТ  Нарцисс; д.</td>\n",
       "      <td></td>\n",
       "      <td>д. 16</td>\n",
       "    </tr>\n",
       "    <tr>\n",
       "      <th>2</th>\n",
       "      <td>Пестречинский МО; Богородское СП  дер. Куюки;</td>\n",
       "      <td>Тополиная</td>\n",
       "      <td>д. 34 д.</td>\n",
       "    </tr>\n",
       "    <tr>\n",
       "      <th>3</th>\n",
       "      <td>Орловское</td>\n",
       "      <td></td>\n",
       "      <td></td>\n",
       "    </tr>\n",
       "    <tr>\n",
       "      <th>4</th>\n",
       "      <td>Столбищенское</td>\n",
       "      <td></td>\n",
       "      <td></td>\n",
       "    </tr>\n",
       "  </tbody>\n",
       "</table>\n",
       "</div>"
      ],
      "text/plain": [
       "                                               punkt     street     house\n",
       "0                                             Казань                     \n",
       "1  г. Казань; Авиастроительный МО;  СНТ  Нарцисс; д.                д. 16\n",
       "2      Пестречинский МО; Богородское СП  дер. Куюки;  Тополиная  д. 34 д.\n",
       "3                                          Орловское                     \n",
       "4                                      Столбищенское                     "
      ]
     },
     "execution_count": 35,
     "metadata": {},
     "output_type": "execute_result"
    }
   ],
   "source": [
    "df_final = pd.concat([df_street['adress'], df_street_house, df_house['house']], axis=1)\n",
    "df_final['house_new'] = df_final['house'] + df_final['sub_house']\n",
    "df_final = df_final.replace('-', '', regex=True, )\n",
    "df_final = df_final[['adress', 'sub_street', 'house_new']]\n",
    "df_final.columns = ['punkt', 'street', 'house']\n",
    "df_final = df_final.replace('%', '', regex=True)\n",
    "df_final = df_final.replace('@', '', regex=True)\n",
    "df_final = df_final.replace('#', '', regex=True)\n",
    "df_final = df_final.replace('&', '', regex=True)\n",
    "df_final = df_final.replace(',', ';', regex=True)\n",
    "df_final = df_final.replace(pd.NA, '', regex=True)\n",
    "df_final = df_final.replace(pd.NA, '-')\n",
    "df_final['house'] = df_final['house'].replace('\"', '', regex=True)\n",
    "df_final['house'] = df_final['house'].replace(';', '', regex=True)\n",
    "df_final['house'] = df_final['house'].replace('дер.', '', regex=True)\n",
    "df_final['street'] = df_final['street'].replace('ул.', '', regex=True)\n",
    "df_final = df_final.apply(lambda x: x.str.strip(), axis=0)\n",
    "df_final = df_final.apply(lambda x: x.str.strip(), axis=1)\n",
    "df_final.head()"
   ]
  },
  {
   "cell_type": "code",
   "execution_count": 36,
   "metadata": {},
   "outputs": [],
   "source": [
    "df_final['punkt'] = df_final['punkt'].replace('', '-')\n",
    "df_final['street'] = df_final['street'].replace('', '-')\n",
    "df_final['house'] = df_final['house'].replace('', '-')\n",
    "df_final['house'] = df_final['house'].str.strip()\n",
    "df_final['house'] = df_final['house'].str.rstrip(\";\")\n",
    "df_final['house'] = df_final['house'].str.lstrip(\";\")\n",
    "df_final['street'] = df_final['street'].str.strip()\n",
    "df_final['street'] = df_final['street'].str.rstrip(\";\")\n",
    "df_final['street'] = df_final['street'].str.lstrip(\";\")\n",
    "df_final['punkt'] = df_final['punkt'].str.strip()\n",
    "df_final['punkt'] = df_final['punkt'].str.rstrip(\";\")\n",
    "df_final['punkt'] = df_final['punkt'].str.lstrip(\";\")\n",
    "df_final['punkt'] = df_final['punkt'].replace('участоксток', '', regex=True)\n",
    "df_final['street'] = df_final['street'].replace('участоксток', '', regex=True)\n",
    "df_final['house'] = df_final['house'].replace('участоксток', '', regex=True)\n",
    "df_final['punkt'] = df_final['punkt'].replace('земельный', '', regex=True)\n",
    "df_final['street'] = df_final['street'].replace('земельный', '', regex=True)\n",
    "df_final['house'] = df_final['house'].replace('земельный', '', regex=True)\n",
    "# df_final['punkt'] = df_final['punkt'].apply(lambda x: x if x[0]!=';' else x[1:])\n",
    "# df_final['punkt'] = df_final['punkt'].apply(lambda x: x if x[-1]!=';' else x[:-1])"
   ]
  },
  {
   "cell_type": "code",
   "execution_count": 37,
   "metadata": {},
   "outputs": [],
   "source": [
    "# df_final.to_excel(\"./output/test_1.xlsx\")\n",
    "cols_1 = ['punkt', 'street', 'dom']\n",
    "cols_2 = ['input']"
   ]
  },
  {
   "cell_type": "code",
   "execution_count": 38,
   "metadata": {},
   "outputs": [
    {
     "data": {
      "text/html": [
       "<div>\n",
       "<style scoped>\n",
       "    .dataframe tbody tr th:only-of-type {\n",
       "        vertical-align: middle;\n",
       "    }\n",
       "\n",
       "    .dataframe tbody tr th {\n",
       "        vertical-align: top;\n",
       "    }\n",
       "\n",
       "    .dataframe thead th {\n",
       "        text-align: right;\n",
       "    }\n",
       "</style>\n",
       "<table border=\"1\" class=\"dataframe\">\n",
       "  <thead>\n",
       "    <tr style=\"text-align: right;\">\n",
       "      <th></th>\n",
       "      <th>punkt</th>\n",
       "      <th>street</th>\n",
       "      <th>house</th>\n",
       "    </tr>\n",
       "  </thead>\n",
       "  <tbody>\n",
       "    <tr>\n",
       "      <th>0</th>\n",
       "      <td>Казань</td>\n",
       "      <td>-</td>\n",
       "      <td>-</td>\n",
       "    </tr>\n",
       "    <tr>\n",
       "      <th>1</th>\n",
       "      <td>г. Казань; Авиастроительный МО;  СНТ  Нарцисс; д.</td>\n",
       "      <td>-</td>\n",
       "      <td>16</td>\n",
       "    </tr>\n",
       "    <tr>\n",
       "      <th>2</th>\n",
       "      <td>Пестречинский МО; Богородское СП  дер. Куюки</td>\n",
       "      <td>Тополиная</td>\n",
       "      <td>34</td>\n",
       "    </tr>\n",
       "    <tr>\n",
       "      <th>3</th>\n",
       "      <td>Орловское</td>\n",
       "      <td>-</td>\n",
       "      <td>-</td>\n",
       "    </tr>\n",
       "    <tr>\n",
       "      <th>4</th>\n",
       "      <td>Столбищенское</td>\n",
       "      <td>-</td>\n",
       "      <td>-</td>\n",
       "    </tr>\n",
       "  </tbody>\n",
       "</table>\n",
       "</div>"
      ],
      "text/plain": [
       "                                               punkt     street house\n",
       "0                                             Казань          -     -\n",
       "1  г. Казань; Авиастроительный МО;  СНТ  Нарцисс; д.          -    16\n",
       "2       Пестречинский МО; Богородское СП  дер. Куюки  Тополиная    34\n",
       "3                                          Орловское          -     -\n",
       "4                                      Столбищенское          -     -"
      ]
     },
     "execution_count": 38,
     "metadata": {},
     "output_type": "execute_result"
    }
   ],
   "source": [
    "df_final['punkt'] = df_final['punkt'].str.strip()\n",
    "df_final['street'] = df_final['street'].str.strip()\n",
    "df_final['house'] = df_final['house'].str.strip()\n",
    "df_final['house'] = df_final['house'].str.rstrip('д')\n",
    "df_final['house'] = df_final['house'].str.lstrip('д')\n",
    "df_final['house'] = df_final['house'].str.rstrip('д.')\n",
    "df_final['house'] = df_final['house'].str.lstrip('д.')\n",
    "df_final['street'] = df_final['street'].str.lstrip(' пер.')\n",
    "df_final['street'] = df_final['street'].str.lstrip('пер.')\n",
    "df_final['house'] = df_final['house'].str.strip()\n",
    "df_final['house'] = df_final['house'].replace('участок', '', regex=True)\n",
    "df_final.head()"
   ]
  },
  {
   "cell_type": "code",
   "execution_count": 39,
   "metadata": {},
   "outputs": [
    {
     "data": {
      "text/html": [
       "<div>\n",
       "<style scoped>\n",
       "    .dataframe tbody tr th:only-of-type {\n",
       "        vertical-align: middle;\n",
       "    }\n",
       "\n",
       "    .dataframe tbody tr th {\n",
       "        vertical-align: top;\n",
       "    }\n",
       "\n",
       "    .dataframe thead th {\n",
       "        text-align: right;\n",
       "    }\n",
       "</style>\n",
       "<table border=\"1\" class=\"dataframe\">\n",
       "  <thead>\n",
       "    <tr style=\"text-align: right;\">\n",
       "      <th></th>\n",
       "      <th>punkt</th>\n",
       "      <th>street</th>\n",
       "      <th>house</th>\n",
       "    </tr>\n",
       "  </thead>\n",
       "  <tbody>\n",
       "    <tr>\n",
       "      <th>0</th>\n",
       "      <td>Казань</td>\n",
       "      <td>-</td>\n",
       "      <td>-</td>\n",
       "    </tr>\n",
       "    <tr>\n",
       "      <th>1</th>\n",
       "      <td>г. Казань; Авиастроительный МО;  СНТ  Нарцисс; д.</td>\n",
       "      <td>-</td>\n",
       "      <td>16</td>\n",
       "    </tr>\n",
       "    <tr>\n",
       "      <th>2</th>\n",
       "      <td>Пестречинский МО; Богородское СП  дер. Куюки</td>\n",
       "      <td>Тополиная</td>\n",
       "      <td>34</td>\n",
       "    </tr>\n",
       "    <tr>\n",
       "      <th>3</th>\n",
       "      <td>Орловское</td>\n",
       "      <td>-</td>\n",
       "      <td>-</td>\n",
       "    </tr>\n",
       "    <tr>\n",
       "      <th>4</th>\n",
       "      <td>Столбищенское</td>\n",
       "      <td>-</td>\n",
       "      <td>-</td>\n",
       "    </tr>\n",
       "  </tbody>\n",
       "</table>\n",
       "</div>"
      ],
      "text/plain": [
       "                                               punkt     street house\n",
       "0                                             Казань          -     -\n",
       "1  г. Казань; Авиастроительный МО;  СНТ  Нарцисс; д.          -    16\n",
       "2       Пестречинский МО; Богородское СП  дер. Куюки  Тополиная    34\n",
       "3                                          Орловское          -     -\n",
       "4                                      Столбищенское          -     -"
      ]
     },
     "execution_count": 39,
     "metadata": {},
     "output_type": "execute_result"
    }
   ],
   "source": [
    "df_final.head()"
   ]
  },
  {
   "cell_type": "code",
   "execution_count": 40,
   "metadata": {},
   "outputs": [],
   "source": [
    "# записываем данные в формате excel\n",
    "def save_excel_sheet(df, path, sheet_name, columns, index=False):\n",
    "    df.columns = columns\n",
    "    fmt_xl.header_style = columns\n",
    "    df = df.replace('-', '')\n",
    "    df = df.style.set_properties(**{\n",
    "        # 'background-color': 'grey',\n",
    "        'font-size': '9pt',\n",
    "        'font-family': 'Arial',\n",
    "    })\n",
    "    # Create file if it does not exist\n",
    "    if not os.path.exists(path):\n",
    "        print('path not exists')\n",
    "        df.to_excel(path, \n",
    "                    sheet_name=sheet_name, \n",
    "                    index=False,\n",
    "                    columns=columns,\n",
    "                    )\n",
    "    else:\n",
    "        # os.remove(path)\n",
    "        # os.makedirs(path)\n",
    "        with pd.ExcelWriter(path, engine='openpyxl', if_sheet_exists='replace', mode='a') as writer:\n",
    "            df.to_excel(\n",
    "                writer, \n",
    "                sheet_name=sheet_name,\n",
    "                columns=columns,\n",
    "                index=False)\n",
    "# save_excel_sheet(df_final, path='./output/test_1.xlsx', sheet_name='Результат', columns=cols_1)\n",
    "save_excel_sheet(df_final, path='./output/result.xlsx', sheet_name='Результат', columns=cols_1)\n",
    "save_excel_sheet(df_1.iloc[:,5:6], path='./output/result.xlsx', sheet_name='Исходные', columns=cols_2)\n",
    "# save_excel_sheet(df_1.iloc[:,5:6], path='./output/result.xlsx', sheet_name='Исходные', columns=cols_2)"
   ]
  }
 ],
 "metadata": {
  "kernelspec": {
   "display_name": "base",
   "language": "python",
   "name": "python3"
  },
  "language_info": {
   "codemirror_mode": {
    "name": "ipython",
    "version": 3
   },
   "file_extension": ".py",
   "mimetype": "text/x-python",
   "name": "python",
   "nbconvert_exporter": "python",
   "pygments_lexer": "ipython3",
   "version": "3.11.3"
  },
  "orig_nbformat": 4
 },
 "nbformat": 4,
 "nbformat_minor": 2
}
